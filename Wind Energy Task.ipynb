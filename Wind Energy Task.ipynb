{
 "cells": [
  {
   "cell_type": "code",
   "execution_count": 1,
   "id": "1b5661f6",
   "metadata": {},
   "outputs": [],
   "source": [
    "import pandas as pd\n",
    "import numpy as np\n",
    "from sklearn.feature_selection import RFECV \n",
    "from sklearn.linear_model import LinearRegression\n",
    "from sklearn import metrics\n",
    "from xgboost import XGBRegressor\n",
    "import matplotlib.pyplot as plt\n",
    "import seaborn as sns"
   ]
  },
  {
   "cell_type": "code",
   "execution_count": 2,
   "id": "22f78bf4",
   "metadata": {},
   "outputs": [],
   "source": [
    "train_data = pd.read_csv ('train.csv')\n",
    "test_data = pd.read_csv('eval.csv')"
   ]
  },
  {
   "cell_type": "code",
   "execution_count": 3,
   "id": "a41be6eb",
   "metadata": {},
   "outputs": [
    {
     "name": "stdout",
     "output_type": "stream",
     "text": [
      "<class 'pandas.core.frame.DataFrame'>\n",
      "RangeIndex: 52508 entries, 0 to 52507\n",
      "Data columns (total 19 columns):\n",
      " #   Column                      Non-Null Count  Dtype  \n",
      "---  ------                      --------------  -----  \n",
      " 0   Datum                       52508 non-null  object \n",
      " 1   Windgeschwindigkeit48M      52508 non-null  float64\n",
      " 2   Windgeschwindigkeit100M     52508 non-null  float64\n",
      " 3   Windgeschwindigkeit152M     52508 non-null  float64\n",
      " 4   Windrichtung48M             52508 non-null  float64\n",
      " 5   Windrichtung100M            52508 non-null  float64\n",
      " 6   Windrichtung152M            52508 non-null  float64\n",
      " 7   Windgeschwindigkeit100MP10  52508 non-null  float64\n",
      " 8   Windgeschwindigkeit100MP20  52508 non-null  float64\n",
      " 9   Windgeschwindigkeit100MP30  52508 non-null  float64\n",
      " 10  Windgeschwindigkeit100MP40  52508 non-null  float64\n",
      " 11  Windgeschwindigkeit100MP50  52508 non-null  float64\n",
      " 12  Windgeschwindigkeit100MP60  52508 non-null  float64\n",
      " 13  Windgeschwindigkeit100MP70  52508 non-null  float64\n",
      " 14  Windgeschwindigkeit100MP80  52508 non-null  float64\n",
      " 15  Windgeschwindigkeit100MP90  52508 non-null  float64\n",
      " 16  Interpoliert                52508 non-null  int64  \n",
      " 17  Verfügbare_Kapazität        52508 non-null  float64\n",
      " 18  Output                      52508 non-null  int64  \n",
      "dtypes: float64(16), int64(2), object(1)\n",
      "memory usage: 7.6+ MB\n"
     ]
    }
   ],
   "source": [
    "train_data.info()"
   ]
  },
  {
   "cell_type": "markdown",
   "id": "3c512c9d",
   "metadata": {},
   "source": [
    "Rename the columns to their english translations"
   ]
  },
  {
   "cell_type": "markdown",
   "id": "99f0e463",
   "metadata": {},
   "source": [
    "Date (Datum): Begin of a 15-minute interval measurement (YYYY-MM-DD hh:mm:ss) in local \n",
    "time ME(S)Z.\n",
    "\n",
    "• Wind_speed48M, Wind_speed100M, Wind_speed152M \n",
    "(Windgeschwindigkeit48M, Windgeschwindigkeit100M, Windgeschwindigkeit152M): wind speed \n",
    "at 48m height, 100m and 152 meters (measured in m/s)\n",
    "\n",
    "• Wind_direction48M, Wind_direction100M, Wind_direction152M \n",
    "(Windrichtung48M, Windrichtung100M, Windrichtung152M): wind directions at 48m height, \n",
    "100m and 152 (measured in degrees).\n",
    "\n",
    "• Wind_speed_100MP10 - wind_speed_100MP90 (Windgeschwindigkeit100MP10 - \n",
    "Windgeschwindigkeit100MP90): Probabilistic wind speeds at heights 100m (10-90 percentile) in \n",
    "the current 15-minute interval (measured in m/s).\n",
    "\n",
    "• Interpolated (Interpoliert): the wind measurements were originally taken at hourly intervals and \n",
    "were then interpolated to fit the 15-minute intervals. This field contains the interpolated values. \n",
    "\n",
    "• available_capacity (Verfügbare_Kapazität): The maximum available power capacity of the wind \n",
    "farm currently, measured in kW. This can vary depending on maintenance or faults.\n",
    "\n",
    "• Output: the produced wind energy (measured in kWh/h) "
   ]
  },
  {
   "cell_type": "code",
   "execution_count": 4,
   "id": "2f073aed",
   "metadata": {},
   "outputs": [],
   "source": [
    "train_data.rename(columns={'Datum': 'date', 'Windgeschwindigkeit48M':'wind_speed48M', \n",
    "                            'Windgeschwindigkeit100M':'wind_speed100M','Windgeschwindigkeit152M':'wind_speed152M',\n",
    "                            'Windrichtung48M': 'wind_direction48M',\n",
    "                            'Windrichtung100M': 'wind_direction100M', 'Windrichtung152M': 'wind_direction152M',\n",
    "                            'Windgeschwindigkeit100MP10': 'wind_speed100MP10',\n",
    "                            'Windgeschwindigkeit100MP20': 'wind_speed100MP30',\n",
    "                            'Windgeschwindigkeit100MP30': 'wind_speed100MP30', 'Windgeschwindigkeit100MP40': 'wind_speed100MP40',\n",
    "                            'Windgeschwindigkeit100MP50': 'wind_speed100MP50', 'Windgeschwindigkeit100MP60': 'wind_speed100MP60',\n",
    "                            'Windgeschwindigkeit100MP70': 'wind_speed100MP70', 'Windgeschwindigkeit100MP80': 'wind_speed100MP80',\n",
    "                            'Windgeschwindigkeit100MP90': 'wind_speed100MP90', 'Interpoliert': 'interpolated', \n",
    "                            'Verfügbare_Kapazität': 'available_capacity', 'Output':'output'}, inplace= True)"
   ]
  },
  {
   "cell_type": "code",
   "execution_count": 5,
   "id": "f52490d2",
   "metadata": {},
   "outputs": [
    {
     "name": "stdout",
     "output_type": "stream",
     "text": [
      "<class 'pandas.core.frame.DataFrame'>\n",
      "RangeIndex: 17668 entries, 0 to 17667\n",
      "Data columns (total 19 columns):\n",
      " #   Column                      Non-Null Count  Dtype  \n",
      "---  ------                      --------------  -----  \n",
      " 0   Datum                       17668 non-null  object \n",
      " 1   Windgeschwindigkeit48M      17668 non-null  float64\n",
      " 2   Windgeschwindigkeit100M     17668 non-null  float64\n",
      " 3   Windgeschwindigkeit152M     17668 non-null  float64\n",
      " 4   Windrichtung48M             17668 non-null  float64\n",
      " 5   Windrichtung100M            17668 non-null  float64\n",
      " 6   Windrichtung152M            17668 non-null  float64\n",
      " 7   Windgeschwindigkeit100MP10  17668 non-null  float64\n",
      " 8   Windgeschwindigkeit100MP20  17668 non-null  float64\n",
      " 9   Windgeschwindigkeit100MP30  17668 non-null  float64\n",
      " 10  Windgeschwindigkeit100MP40  17668 non-null  float64\n",
      " 11  Windgeschwindigkeit100MP50  17668 non-null  float64\n",
      " 12  Windgeschwindigkeit100MP60  17668 non-null  float64\n",
      " 13  Windgeschwindigkeit100MP70  17668 non-null  float64\n",
      " 14  Windgeschwindigkeit100MP80  17668 non-null  float64\n",
      " 15  Windgeschwindigkeit100MP90  17668 non-null  float64\n",
      " 16  Interpoliert                17668 non-null  int64  \n",
      " 17  Verfügbare_Kapazität        17668 non-null  float64\n",
      " 18  Output                      17668 non-null  int64  \n",
      "dtypes: float64(16), int64(2), object(1)\n",
      "memory usage: 2.6+ MB\n"
     ]
    }
   ],
   "source": [
    "test_data.info()"
   ]
  },
  {
   "cell_type": "markdown",
   "id": "5e03919c",
   "metadata": {},
   "source": [
    "rename the test data as well"
   ]
  },
  {
   "cell_type": "code",
   "execution_count": 6,
   "id": "c31b71cc",
   "metadata": {},
   "outputs": [],
   "source": [
    "#They have identical fields anyways\n",
    "test_data.rename(columns={'Datum': 'date', 'Windgeschwindigkeit48M':'wind_speed48M', \n",
    "                            'Windgeschwindigkeit100M':'wind_speed100M','Windgeschwindigkeit152M':'wind_speed152M',\n",
    "                            'Windrichtung48M': 'wind_direction48M',\n",
    "                            'Windrichtung100M': 'wind_direction100M', 'Windrichtung152M': 'wind_direction152M',\n",
    "                            'Windgeschwindigkeit100MP10': 'wind_speed100MP10',\n",
    "                            'Windgeschwindigkeit100MP20': 'wind_speed100MP30',\n",
    "                            'Windgeschwindigkeit100MP30': 'wind_speed100MP30', 'Windgeschwindigkeit100MP40': 'wind_speed100MP40',\n",
    "                            'Windgeschwindigkeit100MP50': 'wind_speed100MP50', 'Windgeschwindigkeit100MP60': 'wind_speed100MP60',\n",
    "                            'Windgeschwindigkeit100MP70': 'wind_speed100MP70', 'Windgeschwindigkeit100MP80': 'wind_speed100MP80',\n",
    "                            'Windgeschwindigkeit100MP90': 'wind_speed100MP90', 'Interpoliert': 'interpolated', \n",
    "                            'Verfügbare_Kapazität': 'available_capacity', 'Output':'output'}, inplace= True)"
   ]
  },
  {
   "cell_type": "markdown",
   "id": "d388fa07",
   "metadata": {},
   "source": [
    "Output column represents the energy produced. It is also the target label for prediction in this case\n",
    "\n"
   ]
  },
  {
   "cell_type": "code",
   "execution_count": 7,
   "id": "535827ff",
   "metadata": {},
   "outputs": [],
   "source": [
    "X_train = train_data.drop('output', axis = 1)\n",
    "y_train = train_data['output']"
   ]
  },
  {
   "cell_type": "markdown",
   "id": "491ffec2",
   "metadata": {},
   "source": [
    "View the scatter plot relationships"
   ]
  },
  {
   "cell_type": "code",
   "execution_count": 8,
   "id": "c39db118",
   "metadata": {},
   "outputs": [
    {
     "data": {
      "text/html": [
       "<div>\n",
       "<style scoped>\n",
       "    .dataframe tbody tr th:only-of-type {\n",
       "        vertical-align: middle;\n",
       "    }\n",
       "\n",
       "    .dataframe tbody tr th {\n",
       "        vertical-align: top;\n",
       "    }\n",
       "\n",
       "    .dataframe thead th {\n",
       "        text-align: right;\n",
       "    }\n",
       "</style>\n",
       "<table border=\"1\" class=\"dataframe\">\n",
       "  <thead>\n",
       "    <tr style=\"text-align: right;\">\n",
       "      <th></th>\n",
       "      <th>date</th>\n",
       "      <th>wind_speed48M</th>\n",
       "      <th>wind_speed100M</th>\n",
       "      <th>wind_speed152M</th>\n",
       "      <th>wind_direction48M</th>\n",
       "      <th>wind_direction100M</th>\n",
       "      <th>wind_direction152M</th>\n",
       "      <th>wind_speed100MP10</th>\n",
       "      <th>wind_speed100MP30</th>\n",
       "      <th>wind_speed100MP30</th>\n",
       "      <th>wind_speed100MP40</th>\n",
       "      <th>wind_speed100MP50</th>\n",
       "      <th>wind_speed100MP60</th>\n",
       "      <th>wind_speed100MP70</th>\n",
       "      <th>wind_speed100MP80</th>\n",
       "      <th>wind_speed100MP90</th>\n",
       "      <th>interpolated</th>\n",
       "      <th>available_capacity</th>\n",
       "    </tr>\n",
       "  </thead>\n",
       "  <tbody>\n",
       "    <tr>\n",
       "      <th>0</th>\n",
       "      <td>2016-01-01 00:00:00</td>\n",
       "      <td>8.49</td>\n",
       "      <td>10.77</td>\n",
       "      <td>12.69</td>\n",
       "      <td>188.0</td>\n",
       "      <td>190.0</td>\n",
       "      <td>194.0</td>\n",
       "      <td>9.07</td>\n",
       "      <td>9.63</td>\n",
       "      <td>10.06</td>\n",
       "      <td>10.43</td>\n",
       "      <td>10.78</td>\n",
       "      <td>11.05</td>\n",
       "      <td>11.54</td>\n",
       "      <td>11.94</td>\n",
       "      <td>12.42</td>\n",
       "      <td>0</td>\n",
       "      <td>122400.0</td>\n",
       "    </tr>\n",
       "  </tbody>\n",
       "</table>\n",
       "</div>"
      ],
      "text/plain": [
       "                  date  wind_speed48M  wind_speed100M  wind_speed152M  \\\n",
       "0  2016-01-01 00:00:00           8.49           10.77           12.69   \n",
       "\n",
       "   wind_direction48M  wind_direction100M  wind_direction152M  \\\n",
       "0              188.0               190.0               194.0   \n",
       "\n",
       "   wind_speed100MP10  wind_speed100MP30  wind_speed100MP30  wind_speed100MP40  \\\n",
       "0               9.07               9.63              10.06              10.43   \n",
       "\n",
       "   wind_speed100MP50  wind_speed100MP60  wind_speed100MP70  wind_speed100MP80  \\\n",
       "0              10.78              11.05              11.54              11.94   \n",
       "\n",
       "   wind_speed100MP90  interpolated  available_capacity  \n",
       "0              12.42             0            122400.0  "
      ]
     },
     "execution_count": 8,
     "metadata": {},
     "output_type": "execute_result"
    }
   ],
   "source": [
    "X_train.head(1)"
   ]
  },
  {
   "cell_type": "code",
   "execution_count": 9,
   "id": "368cad6d",
   "metadata": {},
   "outputs": [
    {
     "data": {
      "image/png": "[encoded data removed]",
      "text/plain": [
       "<Figure size 432x288 with 1 Axes>"
      ]
     },
     "metadata": {
      "needs_background": "light"
     },
     "output_type": "display_data"
    }
   ],
   "source": [
    "plt.scatter(X_train['wind_speed48M'], y_train)\n",
    "plt.show()"
   ]
  },
  {
   "cell_type": "code",
   "execution_count": 10,
   "id": "45e7416e",
   "metadata": {},
   "outputs": [
    {
     "data": {
      "image/png": "[encoded data removed]",
      "text/plain": [
       "<Figure size 432x288 with 1 Axes>"
      ]
     },
     "metadata": {
      "needs_background": "light"
     },
     "output_type": "display_data"
    }
   ],
   "source": [
    "plt.scatter(X_train['wind_speed152M'], y_train)\n",
    "plt.show()"
   ]
  },
  {
   "cell_type": "code",
   "execution_count": 11,
   "id": "5776df35",
   "metadata": {},
   "outputs": [
    {
     "data": {
      "image/png": "[encoded data removed]",
      "text/plain": [
       "<Figure size 432x288 with 1 Axes>"
      ]
     },
     "metadata": {
      "needs_background": "light"
     },
     "output_type": "display_data"
    }
   ],
   "source": [
    "plt.scatter(X_train['wind_speed100MP10'], y_train)\n",
    "plt.show()"
   ]
  },
  {
   "cell_type": "code",
   "execution_count": 12,
   "id": "65aa86ea",
   "metadata": {},
   "outputs": [
    {
     "data": {
      "text/html": [
       "<div>\n",
       "<style scoped>\n",
       "    .dataframe tbody tr th:only-of-type {\n",
       "        vertical-align: middle;\n",
       "    }\n",
       "\n",
       "    .dataframe tbody tr th {\n",
       "        vertical-align: top;\n",
       "    }\n",
       "\n",
       "    .dataframe thead th {\n",
       "        text-align: right;\n",
       "    }\n",
       "</style>\n",
       "<table border=\"1\" class=\"dataframe\">\n",
       "  <thead>\n",
       "    <tr style=\"text-align: right;\">\n",
       "      <th></th>\n",
       "      <th>wind_speed48M</th>\n",
       "      <th>wind_speed100M</th>\n",
       "      <th>wind_speed152M</th>\n",
       "      <th>wind_direction48M</th>\n",
       "      <th>wind_direction100M</th>\n",
       "      <th>wind_direction152M</th>\n",
       "      <th>wind_speed100MP10</th>\n",
       "      <th>wind_speed100MP30</th>\n",
       "      <th>wind_speed100MP30</th>\n",
       "      <th>wind_speed100MP40</th>\n",
       "      <th>wind_speed100MP50</th>\n",
       "      <th>wind_speed100MP60</th>\n",
       "      <th>wind_speed100MP70</th>\n",
       "      <th>wind_speed100MP80</th>\n",
       "      <th>wind_speed100MP90</th>\n",
       "      <th>interpolated</th>\n",
       "      <th>available_capacity</th>\n",
       "      <th>output</th>\n",
       "    </tr>\n",
       "  </thead>\n",
       "  <tbody>\n",
       "    <tr>\n",
       "      <th>wind_speed48M</th>\n",
       "      <td>1.000000</td>\n",
       "      <td>0.982453</td>\n",
       "      <td>0.958376</td>\n",
       "      <td>0.126413</td>\n",
       "      <td>0.123056</td>\n",
       "      <td>0.121065</td>\n",
       "      <td>0.980281</td>\n",
       "      <td>0.981269</td>\n",
       "      <td>0.981838</td>\n",
       "      <td>0.982227</td>\n",
       "      <td>0.982453</td>\n",
       "      <td>0.982369</td>\n",
       "      <td>0.982194</td>\n",
       "      <td>0.981865</td>\n",
       "      <td>0.981349</td>\n",
       "      <td>-2.313416e-05</td>\n",
       "      <td>6.193204e-03</td>\n",
       "      <td>0.889447</td>\n",
       "    </tr>\n",
       "    <tr>\n",
       "      <th>wind_speed100M</th>\n",
       "      <td>0.982453</td>\n",
       "      <td>1.000000</td>\n",
       "      <td>0.992113</td>\n",
       "      <td>0.093161</td>\n",
       "      <td>0.094450</td>\n",
       "      <td>0.097180</td>\n",
       "      <td>0.998020</td>\n",
       "      <td>0.998975</td>\n",
       "      <td>0.999514</td>\n",
       "      <td>0.999802</td>\n",
       "      <td>0.999991</td>\n",
       "      <td>0.999808</td>\n",
       "      <td>0.999542</td>\n",
       "      <td>0.999067</td>\n",
       "      <td>0.998291</td>\n",
       "      <td>-2.677297e-05</td>\n",
       "      <td>5.655206e-02</td>\n",
       "      <td>0.888803</td>\n",
       "    </tr>\n",
       "    <tr>\n",
       "      <th>wind_speed152M</th>\n",
       "      <td>0.958376</td>\n",
       "      <td>0.992113</td>\n",
       "      <td>1.000000</td>\n",
       "      <td>0.071982</td>\n",
       "      <td>0.074658</td>\n",
       "      <td>0.079498</td>\n",
       "      <td>0.990102</td>\n",
       "      <td>0.991048</td>\n",
       "      <td>0.991628</td>\n",
       "      <td>0.991905</td>\n",
       "      <td>0.992099</td>\n",
       "      <td>0.991887</td>\n",
       "      <td>0.991613</td>\n",
       "      <td>0.991130</td>\n",
       "      <td>0.990248</td>\n",
       "      <td>-2.998525e-05</td>\n",
       "      <td>7.744337e-02</td>\n",
       "      <td>0.875016</td>\n",
       "    </tr>\n",
       "    <tr>\n",
       "      <th>wind_direction48M</th>\n",
       "      <td>0.126413</td>\n",
       "      <td>0.093161</td>\n",
       "      <td>0.071982</td>\n",
       "      <td>1.000000</td>\n",
       "      <td>0.948389</td>\n",
       "      <td>0.918411</td>\n",
       "      <td>0.090588</td>\n",
       "      <td>0.091225</td>\n",
       "      <td>0.091921</td>\n",
       "      <td>0.092738</td>\n",
       "      <td>0.093215</td>\n",
       "      <td>0.093544</td>\n",
       "      <td>0.094032</td>\n",
       "      <td>0.095121</td>\n",
       "      <td>0.096000</td>\n",
       "      <td>-1.697860e-03</td>\n",
       "      <td>-2.923861e-02</td>\n",
       "      <td>0.117044</td>\n",
       "    </tr>\n",
       "    <tr>\n",
       "      <th>wind_direction100M</th>\n",
       "      <td>0.123056</td>\n",
       "      <td>0.094450</td>\n",
       "      <td>0.074658</td>\n",
       "      <td>0.948389</td>\n",
       "      <td>1.000000</td>\n",
       "      <td>0.967467</td>\n",
       "      <td>0.092224</td>\n",
       "      <td>0.092726</td>\n",
       "      <td>0.093375</td>\n",
       "      <td>0.094042</td>\n",
       "      <td>0.094508</td>\n",
       "      <td>0.094722</td>\n",
       "      <td>0.095064</td>\n",
       "      <td>0.095921</td>\n",
       "      <td>0.096700</td>\n",
       "      <td>-1.365760e-03</td>\n",
       "      <td>-2.924203e-02</td>\n",
       "      <td>0.113851</td>\n",
       "    </tr>\n",
       "    <tr>\n",
       "      <th>wind_direction152M</th>\n",
       "      <td>0.121065</td>\n",
       "      <td>0.097180</td>\n",
       "      <td>0.079498</td>\n",
       "      <td>0.918411</td>\n",
       "      <td>0.967467</td>\n",
       "      <td>1.000000</td>\n",
       "      <td>0.095220</td>\n",
       "      <td>0.095619</td>\n",
       "      <td>0.096266</td>\n",
       "      <td>0.096887</td>\n",
       "      <td>0.097229</td>\n",
       "      <td>0.097394</td>\n",
       "      <td>0.097657</td>\n",
       "      <td>0.098456</td>\n",
       "      <td>0.099104</td>\n",
       "      <td>-1.084837e-03</td>\n",
       "      <td>-2.642469e-02</td>\n",
       "      <td>0.111899</td>\n",
       "    </tr>\n",
       "    <tr>\n",
       "      <th>wind_speed100MP10</th>\n",
       "      <td>0.980281</td>\n",
       "      <td>0.998020</td>\n",
       "      <td>0.990102</td>\n",
       "      <td>0.090588</td>\n",
       "      <td>0.092224</td>\n",
       "      <td>0.095220</td>\n",
       "      <td>1.000000</td>\n",
       "      <td>0.999414</td>\n",
       "      <td>0.998924</td>\n",
       "      <td>0.998509</td>\n",
       "      <td>0.997995</td>\n",
       "      <td>0.997481</td>\n",
       "      <td>0.996861</td>\n",
       "      <td>0.995924</td>\n",
       "      <td>0.994582</td>\n",
       "      <td>-2.615521e-05</td>\n",
       "      <td>5.494955e-02</td>\n",
       "      <td>0.885870</td>\n",
       "    </tr>\n",
       "    <tr>\n",
       "      <th>wind_speed100MP30</th>\n",
       "      <td>0.981269</td>\n",
       "      <td>0.998975</td>\n",
       "      <td>0.991048</td>\n",
       "      <td>0.091225</td>\n",
       "      <td>0.092726</td>\n",
       "      <td>0.095619</td>\n",
       "      <td>0.999414</td>\n",
       "      <td>1.000000</td>\n",
       "      <td>0.999656</td>\n",
       "      <td>0.999348</td>\n",
       "      <td>0.998956</td>\n",
       "      <td>0.998550</td>\n",
       "      <td>0.998043</td>\n",
       "      <td>0.997250</td>\n",
       "      <td>0.996089</td>\n",
       "      <td>-2.614688e-05</td>\n",
       "      <td>5.541125e-02</td>\n",
       "      <td>0.886977</td>\n",
       "    </tr>\n",
       "    <tr>\n",
       "      <th>wind_speed100MP30</th>\n",
       "      <td>0.981838</td>\n",
       "      <td>0.999514</td>\n",
       "      <td>0.991628</td>\n",
       "      <td>0.091921</td>\n",
       "      <td>0.093375</td>\n",
       "      <td>0.096266</td>\n",
       "      <td>0.998924</td>\n",
       "      <td>0.999656</td>\n",
       "      <td>1.000000</td>\n",
       "      <td>0.999787</td>\n",
       "      <td>0.999499</td>\n",
       "      <td>0.999186</td>\n",
       "      <td>0.998775</td>\n",
       "      <td>0.998106</td>\n",
       "      <td>0.997100</td>\n",
       "      <td>-2.610919e-05</td>\n",
       "      <td>5.625096e-02</td>\n",
       "      <td>0.887776</td>\n",
       "    </tr>\n",
       "    <tr>\n",
       "      <th>wind_speed100MP40</th>\n",
       "      <td>0.982227</td>\n",
       "      <td>0.999802</td>\n",
       "      <td>0.991905</td>\n",
       "      <td>0.092738</td>\n",
       "      <td>0.094042</td>\n",
       "      <td>0.096887</td>\n",
       "      <td>0.998509</td>\n",
       "      <td>0.999348</td>\n",
       "      <td>0.999787</td>\n",
       "      <td>1.000000</td>\n",
       "      <td>0.999790</td>\n",
       "      <td>0.999540</td>\n",
       "      <td>0.999205</td>\n",
       "      <td>0.998635</td>\n",
       "      <td>0.997737</td>\n",
       "      <td>-2.629489e-05</td>\n",
       "      <td>5.603817e-02</td>\n",
       "      <td>0.888227</td>\n",
       "    </tr>\n",
       "    <tr>\n",
       "      <th>wind_speed100MP50</th>\n",
       "      <td>0.982453</td>\n",
       "      <td>0.999991</td>\n",
       "      <td>0.992099</td>\n",
       "      <td>0.093215</td>\n",
       "      <td>0.094508</td>\n",
       "      <td>0.097229</td>\n",
       "      <td>0.997995</td>\n",
       "      <td>0.998956</td>\n",
       "      <td>0.999499</td>\n",
       "      <td>0.999790</td>\n",
       "      <td>1.000000</td>\n",
       "      <td>0.999819</td>\n",
       "      <td>0.999555</td>\n",
       "      <td>0.999085</td>\n",
       "      <td>0.998315</td>\n",
       "      <td>-2.641977e-05</td>\n",
       "      <td>5.653222e-02</td>\n",
       "      <td>0.888798</td>\n",
       "    </tr>\n",
       "    <tr>\n",
       "      <th>wind_speed100MP60</th>\n",
       "      <td>0.982369</td>\n",
       "      <td>0.999808</td>\n",
       "      <td>0.991887</td>\n",
       "      <td>0.093544</td>\n",
       "      <td>0.094722</td>\n",
       "      <td>0.097394</td>\n",
       "      <td>0.997481</td>\n",
       "      <td>0.998550</td>\n",
       "      <td>0.999186</td>\n",
       "      <td>0.999540</td>\n",
       "      <td>0.999819</td>\n",
       "      <td>1.000000</td>\n",
       "      <td>0.999800</td>\n",
       "      <td>0.999412</td>\n",
       "      <td>0.998722</td>\n",
       "      <td>-2.661245e-05</td>\n",
       "      <td>5.693607e-02</td>\n",
       "      <td>0.888947</td>\n",
       "    </tr>\n",
       "    <tr>\n",
       "      <th>wind_speed100MP70</th>\n",
       "      <td>0.982194</td>\n",
       "      <td>0.999542</td>\n",
       "      <td>0.991613</td>\n",
       "      <td>0.094032</td>\n",
       "      <td>0.095064</td>\n",
       "      <td>0.097657</td>\n",
       "      <td>0.996861</td>\n",
       "      <td>0.998043</td>\n",
       "      <td>0.998775</td>\n",
       "      <td>0.999205</td>\n",
       "      <td>0.999555</td>\n",
       "      <td>0.999800</td>\n",
       "      <td>1.000000</td>\n",
       "      <td>0.999697</td>\n",
       "      <td>0.999107</td>\n",
       "      <td>-2.797377e-05</td>\n",
       "      <td>5.710731e-02</td>\n",
       "      <td>0.889053</td>\n",
       "    </tr>\n",
       "    <tr>\n",
       "      <th>wind_speed100MP80</th>\n",
       "      <td>0.981865</td>\n",
       "      <td>0.999067</td>\n",
       "      <td>0.991130</td>\n",
       "      <td>0.095121</td>\n",
       "      <td>0.095921</td>\n",
       "      <td>0.098456</td>\n",
       "      <td>0.995924</td>\n",
       "      <td>0.997250</td>\n",
       "      <td>0.998106</td>\n",
       "      <td>0.998635</td>\n",
       "      <td>0.999085</td>\n",
       "      <td>0.999412</td>\n",
       "      <td>0.999697</td>\n",
       "      <td>1.000000</td>\n",
       "      <td>0.999522</td>\n",
       "      <td>-2.825534e-05</td>\n",
       "      <td>5.746111e-02</td>\n",
       "      <td>0.889191</td>\n",
       "    </tr>\n",
       "    <tr>\n",
       "      <th>wind_speed100MP90</th>\n",
       "      <td>0.981349</td>\n",
       "      <td>0.998291</td>\n",
       "      <td>0.990248</td>\n",
       "      <td>0.096000</td>\n",
       "      <td>0.096700</td>\n",
       "      <td>0.099104</td>\n",
       "      <td>0.994582</td>\n",
       "      <td>0.996089</td>\n",
       "      <td>0.997100</td>\n",
       "      <td>0.997737</td>\n",
       "      <td>0.998315</td>\n",
       "      <td>0.998722</td>\n",
       "      <td>0.999107</td>\n",
       "      <td>0.999522</td>\n",
       "      <td>1.000000</td>\n",
       "      <td>-2.788561e-05</td>\n",
       "      <td>5.789767e-02</td>\n",
       "      <td>0.889284</td>\n",
       "    </tr>\n",
       "    <tr>\n",
       "      <th>interpolated</th>\n",
       "      <td>-0.000023</td>\n",
       "      <td>-0.000027</td>\n",
       "      <td>-0.000030</td>\n",
       "      <td>-0.001698</td>\n",
       "      <td>-0.001366</td>\n",
       "      <td>-0.001085</td>\n",
       "      <td>-0.000026</td>\n",
       "      <td>-0.000026</td>\n",
       "      <td>-0.000026</td>\n",
       "      <td>-0.000026</td>\n",
       "      <td>-0.000026</td>\n",
       "      <td>-0.000027</td>\n",
       "      <td>-0.000028</td>\n",
       "      <td>-0.000028</td>\n",
       "      <td>-0.000028</td>\n",
       "      <td>1.000000e+00</td>\n",
       "      <td>-1.138329e-15</td>\n",
       "      <td>0.000244</td>\n",
       "    </tr>\n",
       "    <tr>\n",
       "      <th>available_capacity</th>\n",
       "      <td>0.006193</td>\n",
       "      <td>0.056552</td>\n",
       "      <td>0.077443</td>\n",
       "      <td>-0.029239</td>\n",
       "      <td>-0.029242</td>\n",
       "      <td>-0.026425</td>\n",
       "      <td>0.054950</td>\n",
       "      <td>0.055411</td>\n",
       "      <td>0.056251</td>\n",
       "      <td>0.056038</td>\n",
       "      <td>0.056532</td>\n",
       "      <td>0.056936</td>\n",
       "      <td>0.057107</td>\n",
       "      <td>0.057461</td>\n",
       "      <td>0.057898</td>\n",
       "      <td>-1.138329e-15</td>\n",
       "      <td>1.000000e+00</td>\n",
       "      <td>0.069501</td>\n",
       "    </tr>\n",
       "    <tr>\n",
       "      <th>output</th>\n",
       "      <td>0.889447</td>\n",
       "      <td>0.888803</td>\n",
       "      <td>0.875016</td>\n",
       "      <td>0.117044</td>\n",
       "      <td>0.113851</td>\n",
       "      <td>0.111899</td>\n",
       "      <td>0.885870</td>\n",
       "      <td>0.886977</td>\n",
       "      <td>0.887776</td>\n",
       "      <td>0.888227</td>\n",
       "      <td>0.888798</td>\n",
       "      <td>0.888947</td>\n",
       "      <td>0.889053</td>\n",
       "      <td>0.889191</td>\n",
       "      <td>0.889284</td>\n",
       "      <td>2.439252e-04</td>\n",
       "      <td>6.950053e-02</td>\n",
       "      <td>1.000000</td>\n",
       "    </tr>\n",
       "  </tbody>\n",
       "</table>\n",
       "</div>"
      ],
      "text/plain": [
       "                    wind_speed48M  wind_speed100M  wind_speed152M  \\\n",
       "wind_speed48M            1.000000        0.982453        0.958376   \n",
       "wind_speed100M           0.982453        1.000000        0.992113   \n",
       "wind_speed152M           0.958376        0.992113        1.000000   \n",
       "wind_direction48M        0.126413        0.093161        0.071982   \n",
       "wind_direction100M       0.123056        0.094450        0.074658   \n",
       "wind_direction152M       0.121065        0.097180        0.079498   \n",
       "wind_speed100MP10        0.980281        0.998020        0.990102   \n",
       "wind_speed100MP30        0.981269        0.998975        0.991048   \n",
       "wind_speed100MP30        0.981838        0.999514        0.991628   \n",
       "wind_speed100MP40        0.982227        0.999802        0.991905   \n",
       "wind_speed100MP50        0.982453        0.999991        0.992099   \n",
       "wind_speed100MP60        0.982369        0.999808        0.991887   \n",
       "wind_speed100MP70        0.982194        0.999542        0.991613   \n",
       "wind_speed100MP80        0.981865        0.999067        0.991130   \n",
       "wind_speed100MP90        0.981349        0.998291        0.990248   \n",
       "interpolated            -0.000023       -0.000027       -0.000030   \n",
       "available_capacity       0.006193        0.056552        0.077443   \n",
       "output                   0.889447        0.888803        0.875016   \n",
       "\n",
       "                    wind_direction48M  wind_direction100M  wind_direction152M  \\\n",
       "wind_speed48M                0.126413            0.123056            0.121065   \n",
       "wind_speed100M               0.093161            0.094450            0.097180   \n",
       "wind_speed152M               0.071982            0.074658            0.079498   \n",
       "wind_direction48M            1.000000            0.948389            0.918411   \n",
       "wind_direction100M           0.948389            1.000000            0.967467   \n",
       "wind_direction152M           0.918411            0.967467            1.000000   \n",
       "wind_speed100MP10            0.090588            0.092224            0.095220   \n",
       "wind_speed100MP30            0.091225            0.092726            0.095619   \n",
       "wind_speed100MP30            0.091921            0.093375            0.096266   \n",
       "wind_speed100MP40            0.092738            0.094042            0.096887   \n",
       "wind_speed100MP50            0.093215            0.094508            0.097229   \n",
       "wind_speed100MP60            0.093544            0.094722            0.097394   \n",
       "wind_speed100MP70            0.094032            0.095064            0.097657   \n",
       "wind_speed100MP80            0.095121            0.095921            0.098456   \n",
       "wind_speed100MP90            0.096000            0.096700            0.099104   \n",
       "interpolated                -0.001698           -0.001366           -0.001085   \n",
       "available_capacity          -0.029239           -0.029242           -0.026425   \n",
       "output                       0.117044            0.113851            0.111899   \n",
       "\n",
       "                    wind_speed100MP10  wind_speed100MP30  wind_speed100MP30  \\\n",
       "wind_speed48M                0.980281           0.981269           0.981838   \n",
       "wind_speed100M               0.998020           0.998975           0.999514   \n",
       "wind_speed152M               0.990102           0.991048           0.991628   \n",
       "wind_direction48M            0.090588           0.091225           0.091921   \n",
       "wind_direction100M           0.092224           0.092726           0.093375   \n",
       "wind_direction152M           0.095220           0.095619           0.096266   \n",
       "wind_speed100MP10            1.000000           0.999414           0.998924   \n",
       "wind_speed100MP30            0.999414           1.000000           0.999656   \n",
       "wind_speed100MP30            0.998924           0.999656           1.000000   \n",
       "wind_speed100MP40            0.998509           0.999348           0.999787   \n",
       "wind_speed100MP50            0.997995           0.998956           0.999499   \n",
       "wind_speed100MP60            0.997481           0.998550           0.999186   \n",
       "wind_speed100MP70            0.996861           0.998043           0.998775   \n",
       "wind_speed100MP80            0.995924           0.997250           0.998106   \n",
       "wind_speed100MP90            0.994582           0.996089           0.997100   \n",
       "interpolated                -0.000026          -0.000026          -0.000026   \n",
       "available_capacity           0.054950           0.055411           0.056251   \n",
       "output                       0.885870           0.886977           0.887776   \n",
       "\n",
       "                    wind_speed100MP40  wind_speed100MP50  wind_speed100MP60  \\\n",
       "wind_speed48M                0.982227           0.982453           0.982369   \n",
       "wind_speed100M               0.999802           0.999991           0.999808   \n",
       "wind_speed152M               0.991905           0.992099           0.991887   \n",
       "wind_direction48M            0.092738           0.093215           0.093544   \n",
       "wind_direction100M           0.094042           0.094508           0.094722   \n",
       "wind_direction152M           0.096887           0.097229           0.097394   \n",
       "wind_speed100MP10            0.998509           0.997995           0.997481   \n",
       "wind_speed100MP30            0.999348           0.998956           0.998550   \n",
       "wind_speed100MP30            0.999787           0.999499           0.999186   \n",
       "wind_speed100MP40            1.000000           0.999790           0.999540   \n",
       "wind_speed100MP50            0.999790           1.000000           0.999819   \n",
       "wind_speed100MP60            0.999540           0.999819           1.000000   \n",
       "wind_speed100MP70            0.999205           0.999555           0.999800   \n",
       "wind_speed100MP80            0.998635           0.999085           0.999412   \n",
       "wind_speed100MP90            0.997737           0.998315           0.998722   \n",
       "interpolated                -0.000026          -0.000026          -0.000027   \n",
       "available_capacity           0.056038           0.056532           0.056936   \n",
       "output                       0.888227           0.888798           0.888947   \n",
       "\n",
       "                    wind_speed100MP70  wind_speed100MP80  wind_speed100MP90  \\\n",
       "wind_speed48M                0.982194           0.981865           0.981349   \n",
       "wind_speed100M               0.999542           0.999067           0.998291   \n",
       "wind_speed152M               0.991613           0.991130           0.990248   \n",
       "wind_direction48M            0.094032           0.095121           0.096000   \n",
       "wind_direction100M           0.095064           0.095921           0.096700   \n",
       "wind_direction152M           0.097657           0.098456           0.099104   \n",
       "wind_speed100MP10            0.996861           0.995924           0.994582   \n",
       "wind_speed100MP30            0.998043           0.997250           0.996089   \n",
       "wind_speed100MP30            0.998775           0.998106           0.997100   \n",
       "wind_speed100MP40            0.999205           0.998635           0.997737   \n",
       "wind_speed100MP50            0.999555           0.999085           0.998315   \n",
       "wind_speed100MP60            0.999800           0.999412           0.998722   \n",
       "wind_speed100MP70            1.000000           0.999697           0.999107   \n",
       "wind_speed100MP80            0.999697           1.000000           0.999522   \n",
       "wind_speed100MP90            0.999107           0.999522           1.000000   \n",
       "interpolated                -0.000028          -0.000028          -0.000028   \n",
       "available_capacity           0.057107           0.057461           0.057898   \n",
       "output                       0.889053           0.889191           0.889284   \n",
       "\n",
       "                    interpolated  available_capacity    output  \n",
       "wind_speed48M      -2.313416e-05        6.193204e-03  0.889447  \n",
       "wind_speed100M     -2.677297e-05        5.655206e-02  0.888803  \n",
       "wind_speed152M     -2.998525e-05        7.744337e-02  0.875016  \n",
       "wind_direction48M  -1.697860e-03       -2.923861e-02  0.117044  \n",
       "wind_direction100M -1.365760e-03       -2.924203e-02  0.113851  \n",
       "wind_direction152M -1.084837e-03       -2.642469e-02  0.111899  \n",
       "wind_speed100MP10  -2.615521e-05        5.494955e-02  0.885870  \n",
       "wind_speed100MP30  -2.614688e-05        5.541125e-02  0.886977  \n",
       "wind_speed100MP30  -2.610919e-05        5.625096e-02  0.887776  \n",
       "wind_speed100MP40  -2.629489e-05        5.603817e-02  0.888227  \n",
       "wind_speed100MP50  -2.641977e-05        5.653222e-02  0.888798  \n",
       "wind_speed100MP60  -2.661245e-05        5.693607e-02  0.888947  \n",
       "wind_speed100MP70  -2.797377e-05        5.710731e-02  0.889053  \n",
       "wind_speed100MP80  -2.825534e-05        5.746111e-02  0.889191  \n",
       "wind_speed100MP90  -2.788561e-05        5.789767e-02  0.889284  \n",
       "interpolated        1.000000e+00       -1.138329e-15  0.000244  \n",
       "available_capacity -1.138329e-15        1.000000e+00  0.069501  \n",
       "output              2.439252e-04        6.950053e-02  1.000000  "
      ]
     },
     "execution_count": 12,
     "metadata": {},
     "output_type": "execute_result"
    }
   ],
   "source": [
    "#correlation of the fields\n",
    "feat_corr = train_data.corr()\n",
    "feat_corr"
   ]
  },
  {
   "cell_type": "code",
   "execution_count": 13,
   "id": "2761b188",
   "metadata": {},
   "outputs": [
    {
     "data": {
      "text/plain": [
       "<AxesSubplot:>"
      ]
     },
     "execution_count": 13,
     "metadata": {},
     "output_type": "execute_result"
    },
    {
     "data": {
      "image/png": "[encoded data removed]",
      "text/plain": [
       "<Figure size 432x288 with 2 Axes>"
      ]
     },
     "metadata": {
      "needs_background": "light"
     },
     "output_type": "display_data"
    }
   ],
   "source": [
    "sns.heatmap(feat_corr)"
   ]
  },
  {
   "cell_type": "markdown",
   "id": "f1700d18",
   "metadata": {},
   "source": [
    "Next, the input features and output label will be defined fro the training data"
   ]
  },
  {
   "cell_type": "code",
   "execution_count": 14,
   "id": "adfe5397",
   "metadata": {},
   "outputs": [],
   "source": [
    "X_train = train_data.drop(['output', 'date'], axis = 1)\n",
    "y_train = train_data['output']"
   ]
  },
  {
   "cell_type": "code",
   "execution_count": 15,
   "id": "61948f0b",
   "metadata": {},
   "outputs": [],
   "source": [
    "#same features will be used for the test data\n",
    "X_test = test_data.drop(['output', 'date'], axis = 1)\n",
    "y_test = test_data['output']"
   ]
  },
  {
   "cell_type": "code",
   "execution_count": 16,
   "id": "672d1fbb",
   "metadata": {},
   "outputs": [],
   "source": [
    "lr = LinearRegression().fit(X_train, y_train)"
   ]
  },
  {
   "cell_type": "code",
   "execution_count": 17,
   "id": "8535c4d9",
   "metadata": {},
   "outputs": [],
   "source": [
    "score = round ( lr.score(X_train, y_train)* 100, 2)"
   ]
  },
  {
   "cell_type": "markdown",
   "id": "19402c26",
   "metadata": {},
   "source": [
    "make predicitons on the test data and compare result with y_test"
   ]
  },
  {
   "cell_type": "code",
   "execution_count": 18,
   "id": "6d3a007a",
   "metadata": {},
   "outputs": [],
   "source": [
    "pred = lr.predict(X_test)"
   ]
  },
  {
   "cell_type": "code",
   "execution_count": 19,
   "id": "423fdc31",
   "metadata": {},
   "outputs": [
    {
     "data": {
      "text/plain": [
       "[<matplotlib.lines.Line2D at 0x2537305c370>]"
      ]
     },
     "execution_count": 19,
     "metadata": {},
     "output_type": "execute_result"
    },
    {
     "data": {
      "image/png": "[encoded data removed]",
      "text/plain": [
       "<Figure size 432x288 with 1 Axes>"
      ]
     },
     "metadata": {
      "needs_background": "light"
     },
     "output_type": "display_data"
    }
   ],
   "source": [
    "plt.scatter(X_test['wind_speed48M'], y_test, color= 'cyan')\n",
    "plt.plot(X_test['wind_speed48M'], pred, color=\"red\", linewidth=3)"
   ]
  },
  {
   "cell_type": "markdown",
   "id": "fadea2bc",
   "metadata": {},
   "source": [
    "Evaluation of Linear Regression"
   ]
  },
  {
   "cell_type": "code",
   "execution_count": 20,
   "id": "88418204",
   "metadata": {},
   "outputs": [
    {
     "name": "stdout",
     "output_type": "stream",
     "text": [
      "Mean Absolute Error: 11907.483797595914\n",
      "Mean Square Error: 250485883.0018962\n",
      "Root Mean Square Error: 15826.745812133846\n"
     ]
    }
   ],
   "source": [
    "print('Mean Absolute Error:', metrics.mean_absolute_error(y_test, pred))\n",
    "print('Mean Square Error:', metrics.mean_squared_error(y_test, pred))\n",
    "print('Root Mean Square Error:', np.sqrt(metrics.mean_squared_error(y_test, pred)))"
   ]
  },
  {
   "cell_type": "markdown",
   "id": "a4456b2c",
   "metadata": {},
   "source": [
    "The difference between the predicted values and actual values will now be computed (Residual)"
   ]
  },
  {
   "cell_type": "code",
   "execution_count": 21,
   "id": "9fe2439e",
   "metadata": {},
   "outputs": [
    {
     "data": {
      "image/png": "[encoded data removed]",
      "text/plain": [
       "<Figure size 432x288 with 1 Axes>"
      ]
     },
     "metadata": {
      "needs_background": "light"
     },
     "output_type": "display_data"
    }
   ],
   "source": [
    "plt.hist((y_test-pred),bins=50);"
   ]
  },
  {
   "cell_type": "markdown",
   "id": "ce755837",
   "metadata": {},
   "source": [
    "Trying out XGBoost"
   ]
  },
  {
   "cell_type": "code",
   "execution_count": null,
   "id": "81e3911e",
   "metadata": {},
   "outputs": [],
   "source": []
  },
  {
   "cell_type": "code",
   "execution_count": 22,
   "id": "15cc3214",
   "metadata": {},
   "outputs": [],
   "source": [
    "Xtrain_array = np.array(X_train)\n",
    "xgb = XGBRegressor().fit(Xtrain_array, y_train)"
   ]
  },
  {
   "cell_type": "code",
   "execution_count": 23,
   "id": "4ebb350f",
   "metadata": {},
   "outputs": [
    {
     "name": "stdout",
     "output_type": "stream",
     "text": [
      "XGB training accuracy is 93.0\n"
     ]
    }
   ],
   "source": [
    "print ('XGB training accuracy is', round (xgb.score(Xtrain_array, y_train), 2)* 100)"
   ]
  },
  {
   "cell_type": "code",
   "execution_count": 24,
   "id": "3e6e94e0",
   "metadata": {},
   "outputs": [],
   "source": [
    "xg_pred = xgb.predict (X_test)"
   ]
  },
  {
   "cell_type": "code",
   "execution_count": 25,
   "id": "82022fef",
   "metadata": {},
   "outputs": [
    {
     "data": {
      "image/png": "[encoded data removed]",
      "text/plain": [
       "<Figure size 432x288 with 1 Axes>"
      ]
     },
     "metadata": {
      "needs_background": "light"
     },
     "output_type": "display_data"
    }
   ],
   "source": [
    "plt.scatter(X_test['wind_speed48M'], y_test, color= 'cyan')\n",
    "plt.scatter(X_test['wind_speed48M'], xg_pred, color=\"red\", linewidth=3)\n",
    "plt.show()"
   ]
  },
  {
   "cell_type": "code",
   "execution_count": 26,
   "id": "1d2e8936",
   "metadata": {},
   "outputs": [
    {
     "data": {
      "image/png": "[encoded data removed]",
      "text/plain": [
       "<Figure size 1008x288 with 2 Axes>"
      ]
     },
     "metadata": {
      "needs_background": "light"
     },
     "output_type": "display_data"
    }
   ],
   "source": [
    "#COmparing the two classifier predictions\n",
    "fig, axes = plt.subplots(1, 2, figsize=(14,4))\n",
    "axes[0].set_title('Logistic Regression', fontsize = 14)\n",
    "axes[1].set_title('XGBoost', fontsize = 14)\n",
    "axes[0].scatter(X_test['wind_speed48M'], y_test, color= 'cyan', label = 'Actual Points')\n",
    "axes[0].scatter(X_test['wind_speed48M'], pred, color=\"red\", linewidth=3, label = 'Predicted Points')\n",
    "axes[0].legend(fontsize = 8)\n",
    "\n",
    "axes[1].scatter(X_test['wind_speed48M'], y_test, color= 'cyan', label = 'Actual Points')\n",
    "axes[1].scatter(X_test['wind_speed48M'], xg_pred, color=\"red\", linewidth=3, label = 'Predicted Points')\n",
    "axes[1].legend(fontsize = 8)\n",
    "plt.show()"
   ]
  },
  {
   "cell_type": "markdown",
   "id": "ac337252",
   "metadata": {},
   "source": [
    "XGBOOST Evaluation"
   ]
  },
  {
   "cell_type": "code",
   "execution_count": 27,
   "id": "907deea0",
   "metadata": {},
   "outputs": [
    {
     "name": "stdout",
     "output_type": "stream",
     "text": [
      "Mean Absolute Error: 9727.85777732929\n",
      "Mean Square Error: 211450089.53539675\n",
      "Root Mean Square Error: 14541.32351388266\n"
     ]
    }
   ],
   "source": [
    "print('Mean Absolute Error:', metrics.mean_absolute_error(y_test, xg_pred))\n",
    "print('Mean Square Error:', metrics.mean_squared_error(y_test, xg_pred))\n",
    "print('Root Mean Square Error:', np.sqrt(metrics.mean_squared_error(y_test, xg_pred)))"
   ]
  },
  {
   "cell_type": "markdown",
   "id": "c60dfee0",
   "metadata": {},
   "source": [
    "Could Normalizing the features make a difference ?"
   ]
  },
  {
   "cell_type": "code",
   "execution_count": 28,
   "id": "8c8da5b2",
   "metadata": {},
   "outputs": [],
   "source": [
    "from sklearn.preprocessing import MinMaxScaler"
   ]
  },
  {
   "cell_type": "code",
   "execution_count": 29,
   "id": "2d39bd76",
   "metadata": {},
   "outputs": [],
   "source": [
    "minmax = MinMaxScaler()"
   ]
  },
  {
   "cell_type": "code",
   "execution_count": 30,
   "id": "4b9bc5c5",
   "metadata": {},
   "outputs": [],
   "source": [
    "Xnorm_train = minmax.fit_transform(X_train)"
   ]
  },
  {
   "cell_type": "code",
   "execution_count": 31,
   "id": "05909ce4",
   "metadata": {},
   "outputs": [
    {
     "data": {
      "text/plain": [
       "80.08"
      ]
     },
     "execution_count": 31,
     "metadata": {},
     "output_type": "execute_result"
    }
   ],
   "source": [
    "minmax_lr = LinearRegression().fit(Xnorm_train, y_train)\n",
    "minmax_score = round ( minmax_lr.score(Xnorm_train, y_train)* 100, 2)\n",
    "minmax_score"
   ]
  },
  {
   "cell_type": "markdown",
   "id": "7b02b8f1",
   "metadata": {},
   "source": [
    "Normalsing gives thesame training results"
   ]
  },
  {
   "cell_type": "markdown",
   "id": "c3e317d3",
   "metadata": {},
   "source": [
    "Using the results from the features correlation. (feat_corr), the highly correlated features will be removed to see if there will be difference in results"
   ]
  },
  {
   "cell_type": "code",
   "execution_count": 32,
   "id": "dddcf1bf",
   "metadata": {},
   "outputs": [],
   "source": [
    "#Using Pearson COrrelation\n",
    "threshold = 0.8\n",
    "columns = set()\n",
    "for cols in range (len(feat_corr.columns)):\n",
    "    for values in range (cols):\n",
    "        if abs (feat_corr.iloc[cols, values]) > threshold:\n",
    "            column = feat_corr.columns[cols]\n",
    "            columns.add(column)\n",
    "        \n"
   ]
  },
  {
   "cell_type": "code",
   "execution_count": 33,
   "id": "10892517",
   "metadata": {},
   "outputs": [
    {
     "name": "stdout",
     "output_type": "stream",
     "text": [
      "{'wind_direction152M', 'wind_speed152M', 'wind_speed100MP40', 'wind_speed100MP80', 'wind_speed100MP70', 'output', 'wind_speed100MP10', 'wind_speed100M', 'wind_speed100MP50', 'wind_speed100MP60', 'wind_speed100MP30', 'wind_speed100MP90', 'wind_direction100M'}\n"
     ]
    }
   ],
   "source": [
    "print (columns)"
   ]
  },
  {
   "cell_type": "markdown",
   "id": "434b66a1",
   "metadata": {},
   "source": [
    "The training features will be selected without the items in columns"
   ]
  },
  {
   "cell_type": "code",
   "execution_count": 34,
   "id": "9aa0848b",
   "metadata": {},
   "outputs": [],
   "source": [
    "newX_train = train_data.drop(['date','wind_speed100MP40', 'wind_speed152M', 'wind_speed100M', 'wind_speed100MP60', \n",
    "                              'output', 'wind_speed100MP70', 'wind_direction152M', 'wind_speed100MP30', 'wind_speed100MP10',\n",
    "                              'wind_speed100MP50', 'wind_speed100MP80', 'wind_speed100MP90', 'wind_direction100M'\n",
    "                                 ], axis = 1)"
   ]
  },
  {
   "cell_type": "code",
   "execution_count": 35,
   "id": "fc589573",
   "metadata": {},
   "outputs": [
    {
     "data": {
      "text/html": [
       "<div>\n",
       "<style scoped>\n",
       "    .dataframe tbody tr th:only-of-type {\n",
       "        vertical-align: middle;\n",
       "    }\n",
       "\n",
       "    .dataframe tbody tr th {\n",
       "        vertical-align: top;\n",
       "    }\n",
       "\n",
       "    .dataframe thead th {\n",
       "        text-align: right;\n",
       "    }\n",
       "</style>\n",
       "<table border=\"1\" class=\"dataframe\">\n",
       "  <thead>\n",
       "    <tr style=\"text-align: right;\">\n",
       "      <th></th>\n",
       "      <th>wind_speed48M</th>\n",
       "      <th>wind_direction48M</th>\n",
       "      <th>interpolated</th>\n",
       "      <th>available_capacity</th>\n",
       "    </tr>\n",
       "  </thead>\n",
       "  <tbody>\n",
       "    <tr>\n",
       "      <th>0</th>\n",
       "      <td>8.490</td>\n",
       "      <td>188.00</td>\n",
       "      <td>0</td>\n",
       "      <td>122400.0</td>\n",
       "    </tr>\n",
       "    <tr>\n",
       "      <th>1</th>\n",
       "      <td>8.395</td>\n",
       "      <td>190.75</td>\n",
       "      <td>1</td>\n",
       "      <td>122400.0</td>\n",
       "    </tr>\n",
       "    <tr>\n",
       "      <th>2</th>\n",
       "      <td>8.300</td>\n",
       "      <td>193.50</td>\n",
       "      <td>1</td>\n",
       "      <td>122400.0</td>\n",
       "    </tr>\n",
       "    <tr>\n",
       "      <th>3</th>\n",
       "      <td>8.205</td>\n",
       "      <td>196.25</td>\n",
       "      <td>1</td>\n",
       "      <td>122400.0</td>\n",
       "    </tr>\n",
       "    <tr>\n",
       "      <th>4</th>\n",
       "      <td>8.110</td>\n",
       "      <td>199.00</td>\n",
       "      <td>0</td>\n",
       "      <td>122400.0</td>\n",
       "    </tr>\n",
       "    <tr>\n",
       "      <th>...</th>\n",
       "      <td>...</td>\n",
       "      <td>...</td>\n",
       "      <td>...</td>\n",
       "      <td>...</td>\n",
       "    </tr>\n",
       "    <tr>\n",
       "      <th>52503</th>\n",
       "      <td>4.920</td>\n",
       "      <td>269.25</td>\n",
       "      <td>1</td>\n",
       "      <td>119000.0</td>\n",
       "    </tr>\n",
       "    <tr>\n",
       "      <th>52504</th>\n",
       "      <td>5.030</td>\n",
       "      <td>269.00</td>\n",
       "      <td>0</td>\n",
       "      <td>119000.0</td>\n",
       "    </tr>\n",
       "    <tr>\n",
       "      <th>52505</th>\n",
       "      <td>5.030</td>\n",
       "      <td>269.00</td>\n",
       "      <td>1</td>\n",
       "      <td>119000.0</td>\n",
       "    </tr>\n",
       "    <tr>\n",
       "      <th>52506</th>\n",
       "      <td>5.030</td>\n",
       "      <td>269.00</td>\n",
       "      <td>1</td>\n",
       "      <td>119000.0</td>\n",
       "    </tr>\n",
       "    <tr>\n",
       "      <th>52507</th>\n",
       "      <td>5.030</td>\n",
       "      <td>269.00</td>\n",
       "      <td>1</td>\n",
       "      <td>119000.0</td>\n",
       "    </tr>\n",
       "  </tbody>\n",
       "</table>\n",
       "<p>52508 rows × 4 columns</p>\n",
       "</div>"
      ],
      "text/plain": [
       "       wind_speed48M  wind_direction48M  interpolated  available_capacity\n",
       "0              8.490             188.00             0            122400.0\n",
       "1              8.395             190.75             1            122400.0\n",
       "2              8.300             193.50             1            122400.0\n",
       "3              8.205             196.25             1            122400.0\n",
       "4              8.110             199.00             0            122400.0\n",
       "...              ...                ...           ...                 ...\n",
       "52503          4.920             269.25             1            119000.0\n",
       "52504          5.030             269.00             0            119000.0\n",
       "52505          5.030             269.00             1            119000.0\n",
       "52506          5.030             269.00             1            119000.0\n",
       "52507          5.030             269.00             1            119000.0\n",
       "\n",
       "[52508 rows x 4 columns]"
      ]
     },
     "execution_count": 35,
     "metadata": {},
     "output_type": "execute_result"
    }
   ],
   "source": [
    "newX_train"
   ]
  },
  {
   "cell_type": "code",
   "execution_count": 36,
   "id": "7b4d6b5a",
   "metadata": {},
   "outputs": [
    {
     "data": {
      "text/plain": [
       "79.53"
      ]
     },
     "execution_count": 36,
     "metadata": {},
     "output_type": "execute_result"
    }
   ],
   "source": [
    "newlr = LinearRegression().fit(newX_train, y_train)\n",
    "score = round ( newlr.score(newX_train, y_train)* 100, 2)\n",
    "score"
   ]
  },
  {
   "cell_type": "code",
   "execution_count": 37,
   "id": "4e1377ec",
   "metadata": {},
   "outputs": [
    {
     "data": {
      "text/plain": [
       "90.0"
      ]
     },
     "execution_count": 37,
     "metadata": {},
     "output_type": "execute_result"
    }
   ],
   "source": [
    "newXtrain_array = np.array(newX_train)\n",
    "newxgb = XGBRegressor().fit(newXtrain_array, y_train)\n",
    "\n",
    "round (newxgb.score(newXtrain_array, y_train), 2)* 100"
   ]
  },
  {
   "cell_type": "markdown",
   "id": "1ea76744",
   "metadata": {},
   "source": [
    "So far, the XGBoost classifier has performed best with a training accuracy of 93%, and RMSE of 14,541"
   ]
  },
  {
   "cell_type": "code",
   "execution_count": null,
   "id": "51391689",
   "metadata": {},
   "outputs": [],
   "source": []
  },
  {
   "cell_type": "code",
   "execution_count": null,
   "id": "455d4736",
   "metadata": {},
   "outputs": [],
   "source": []
  }
 ],
 "metadata": {
  "kernelspec": {
   "display_name": "Python 3 (ipykernel)",
   "language": "python",
   "name": "python3"
  },
  "language_info": {
   "codemirror_mode": {
    "name": "ipython",
    "version": 3
   },
   "file_extension": ".py",
   "mimetype": "text/x-python",
   "name": "python",
   "nbconvert_exporter": "python",
   "pygments_lexer": "ipython3",
   "version": "3.9.7"
  }
 },
 "nbformat": 4,
 "nbformat_minor": 5
}
